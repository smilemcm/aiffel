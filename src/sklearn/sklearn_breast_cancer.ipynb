

# Please enter the commit message for your changes. Lines starting
# with '#' will be ignored, and an empty message aborts the commit.
#
# On branch master
# Your branch is ahead of 'origin/master' by 1 commit.
#   (use "git push" to publish your local commits)
#
# Changes to be committed:
#	new file:   __pycache__/dataload.cpython-36.pyc
#	new file:   sklearn/sklearn_breast_cancer.ipynb
#	new file:   sklearn/sklearn_digits.ipynb
#	new file:   sklearn/sklearn_wine.ipynb
#
# Changes not staged for commit:
#	modified:   dataload.py
#	modified:   train.py
#
# Untracked files:
#	../.idea/
#	../datasets/
#	../venv/
#
